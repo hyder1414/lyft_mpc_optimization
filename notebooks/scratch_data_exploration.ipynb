{
 "cells": [
  {
   "cell_type": "code",
   "execution_count": null,
   "metadata": {},
   "outputs": [],
   "source": [
    "import numpy as np\n",
    "import matplotlib.pyplot as plt\n",
    "import zarr\n",
    "\n",
    "# Open the group\n",
    "dataset = zarr.open_group(\"../data/scenes/train.zarr\", mode='r')\n",
    "\n",
    "# Access arrays inside\n",
    "agents = dataset['agents']\n",
    "frames = dataset['frames']\n",
    "scenes = dataset['scenes']\n",
    "\n",
    "print(f\"Agents shape: {agents.shape}\")\n",
    "print(f\"Frames shape: {frames.shape}\")\n",
    "print(f\"Scenes shape: {scenes.shape}\")\n"
   ]
  },
  {
   "cell_type": "code",
   "execution_count": null,
   "metadata": {},
   "outputs": [],
   "source": [
    "import matplotlib.image as mpimg\n",
    "\n",
    "img = mpimg.imread('../data/aerial_map/aerial_map.png')\n",
    "plt.figure(figsize=(10,10))\n",
    "plt.imshow(img)\n",
    "plt.title('Aerial Map Overview')\n",
    "plt.axis('off')\n",
    "plt.show()\n"
   ]
  },
  {
   "cell_type": "code",
   "execution_count": null,
   "metadata": {},
   "outputs": [],
   "source": [
    "def plot_sampled_agents_chunked(agents, sample_size=100_000, chunk_size=5_000):\n",
    "    n_agents = agents.shape[0]\n",
    "    sample_indices = np.random.choice(n_agents, sample_size, replace=False)\n",
    "\n",
    "    centroids = []\n",
    "\n",
    "    for i in range(0, sample_size, chunk_size):\n",
    "        chunk_indices = sample_indices[i:i+chunk_size]\n",
    "        chunk = agents[chunk_indices]['centroid']\n",
    "        centroids.append(chunk)\n",
    "\n",
    "    centroids = np.concatenate(centroids, axis=0)\n",
    "\n",
    "    plt.figure(figsize=(12, 12))\n",
    "    plt.scatter(centroids[:, 0], centroids[:, 1], s=0.1, alpha=0.5)\n",
    "    plt.title(f\"Sampled {sample_size} Agent Positions (Chunked)\")\n",
    "    plt.xlabel(\"X Position (meters)\")\n",
    "    plt.ylabel(\"Y Position (meters)\")\n",
    "    plt.grid(True)\n",
    "    plt.axis(\"equal\")\n",
    "    plt.show()\n",
    "\n",
    "plot_sampled_agents_chunked(agents)\n"
   ]
  },
  {
   "cell_type": "code",
   "execution_count": null,
   "metadata": {},
   "outputs": [],
   "source": [
    "import numpy as np\n",
    "\n",
    "# Function to pick Start and Goal\n",
    "def pick_start_goal(centroids, min_dist=300, max_dist=800):\n",
    "    while True:\n",
    "        idx_start = np.random.choice(len(centroids))\n",
    "        idx_goal = np.random.choice(len(centroids))\n",
    "\n",
    "        start = centroids[idx_start]\n",
    "        goal = centroids[idx_goal]\n",
    "\n",
    "        dist = np.linalg.norm(start - goal)\n",
    "        if min_dist <= dist <= max_dist:\n",
    "            return start, goal, dist\n",
    "\n",
    "# Pick start and goal\n",
    "start, goal, dist = pick_start_goal(centroids)\n",
    "\n",
    "print(f\"Start Position (x,y): {start}\")\n",
    "print(f\"Goal Position (x,y): {goal}\")\n",
    "print(f\"Distance between Start and Goal: {dist:.2f} meters\")\n"
   ]
  }
 ],
 "metadata": {
  "kernelspec": {
   "display_name": "Python 3",
   "language": "python",
   "name": "python3"
  },
  "language_info": {
   "codemirror_mode": {
    "name": "ipython",
    "version": 3
   },
   "file_extension": ".py",
   "mimetype": "text/x-python",
   "name": "python",
   "nbconvert_exporter": "python",
   "pygments_lexer": "ipython3",
   "version": "3.11.6"
  }
 },
 "nbformat": 4,
 "nbformat_minor": 2
}
